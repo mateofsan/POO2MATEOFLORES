{
  "nbformat": 4,
  "nbformat_minor": 0,
  "metadata": {
    "colab": {
      "provenance": []
    },
    "kernelspec": {
      "name": "python3",
      "display_name": "Python 3"
    },
    "language_info": {
      "name": "python"
    }
  },
  "cells": [
    {
      "cell_type": "code",
      "execution_count": null,
      "metadata": {
        "id": "SUmjoyO222Rf"
      },
      "outputs": [],
      "source": []
    },
    {
      "cell_type": "markdown",
      "source": [
        "# Introducción\n",
        "\n",
        "¿Qué es SQL?\n",
        "\n",
        "SQL por sus siglas en inglés significa Lenguaje de Consulta Estructurada (Structured Query Language), es un lenguaje de programación diseñado para actualizar, obtener, y calcular información en bases de datos relacionales.\n",
        "[SQL](https://developer.mozilla.org/es/docs/Glossary/SQL#)\n",
        "\n",
        "¿Para que sirve y cómo imaginas que lo puedes usar en tu carrera?\n",
        "\n",
        "El lenguaje de programación SQL permite a los expertos en tecnología realizar tareas como las de seleccionar, insertar, actualizar y eliminar datos, así como también las de unir y consultar información de diferentes tablas en una base de datos.\n",
        "[Función SQL](https://www.google.com/search?q=para+que+sirve+sql+en+ingenieria+industrial&client=safari&sca_esv=619c697d276fe56b&sca_upv=1&rls=en&ei=InIpZuHrC-_NkPIP0ZW5mAU&oq=para+que+sirve+SQL+en+ingenieria%C2%A0&gs_lp=Egxnd3Mtd2l6LXNlcnAiInBhcmEgcXVlIHNpcnZlIFNRTCBlbiBpbmdlbmllcmlhwqAqAggCMgUQIRigATIFECEYoAEyBRAhGKABMgUQIRigATIFECEYoAFI_UZQlANYszRwA3gBkAEAmAH4AaAByRKqAQYwLjEyLjO4AQHIAQD4AQGYAhGgAssRwgIKEAAYsAMY1gQYR8ICDRAAGIAEGLADGEMYigXCAgYQABgWGB7CAggQABiABBiiBMICCBAAGBYYHhgPwgIHECEYoAEYCpgDAIgGAZAGCpIHBjMuMTIuMqAHyEg&sclient=gws-wiz-serp)\n",
        "\n",
        "Serviria en mi carrera para:\n",
        "\n",
        "1. Gestión de bases de datos: SQL se utiliza para crear y gestionar bases de datos relacionales, que son fundamentales para el almacenamiento y la organización de datos en aplicaciones de ingeniería industrial. Esto incluye información sobre inventarios, procesos de producción, proveedores, clientes, y más.\n",
        "2. Análisis de datos: SQL permite realizar consultas complejas en grandes conjuntos de datos. En la ingeniería industrial, esto puede ser útil para analizar el rendimiento de la producción, identificar tendencias en el uso de materiales, realizar análisis de costos, etc.\n",
        "3. Automatización de tareas: Mediante SQL, es posible automatizar ciertas tareas relacionadas con la gestión de datos, como la generación de informes periódicos, la actualización de registros, la integración de sistemas, entre otros.\n",
        "4. Optimización de procesos: Al analizar datos históricos utilizando SQL, los ingenieros industriales pueden identificar áreas de mejora en los procesos de producción, logística, gestión de inventarios, etc., lo que puede conducir a una optimización general de la eficiencia operativa.\n",
        "5. Integración con otras herramientas: SQL se puede integrar con una variedad de herramientas y tecnologías utilizadas en ingeniería industrial, como sistemas de gestión de producción (ERP), sistemas de control de procesos (SCADA), herramientas de análisis de datos, entre otras.\n",
        "[Uso en la Ingenieria SQL](https://chat.openai.com/c/cdd6ce0a-dd68-48c4-af56-301ac22fa90c)\n",
        "\n",
        "¿Qué librerías hay para trabajar SQL en Google Colab?\n",
        "* sqlite\n",
        "* Elemento de lista\n",
        "* pandas\n",
        "\n"
      ],
      "metadata": {
        "id": "_je6zZPe3wUM"
      }
    },
    {
      "cell_type": "code",
      "source": [
        "import sqlite3"
      ],
      "metadata": {
        "id": "Do1zKhAf8niZ"
      },
      "execution_count": 4,
      "outputs": []
    },
    {
      "cell_type": "markdown",
      "source": [
        "MySQL necesita conexiones e instalaciones; el benchmark es el mejor de todos los \"Queries\". La ventaja de trabajr con sqlite, es que podemos crear bases de datos por default, mientras que en MySQL es necesario crear la base de datos."
      ],
      "metadata": {
        "id": "JnbicnyK88tJ"
      }
    },
    {
      "cell_type": "markdown",
      "source": [
        "**Vamos a crear una base de datos**\n",
        "\n",
        "Nuestra base de datos consistirá de libros."
      ],
      "metadata": {
        "id": "2Q8av-n5-VdV"
      }
    },
    {
      "cell_type": "code",
      "source": [
        "# Para crear a la base de datos, es necesario conectar con el servidor de SQL.\n",
        "\n",
        "con = sqlite3.connect(\"libros_db.sqlite\")"
      ],
      "metadata": {
        "id": "pog1Rx3m-22h"
      },
      "execution_count": 5,
      "outputs": []
    },
    {
      "cell_type": "markdown",
      "source": [
        "Ahora, vamos a diseñar nuestra tabla"
      ],
      "metadata": {
        "id": "K8EYGAvr_oNK"
      }
    },
    {
      "cell_type": "code",
      "source": [
        "\n",
        "\n",
        "#creamos un cursor\n",
        "cursor = con.cursor()\n",
        "# Aqui vamos a ejecutar los datos necesarios para crear la tabla\n",
        "\n",
        "cursor.execute('''\n",
        "CREATE TABLE libros(\n",
        "  id INTEGER PRIMARY KEY,\n",
        "  titulo TEXT NOT NULL,\n",
        "  autor TEXT NOT NULL,\n",
        "  año INTEGER\n",
        ")\n",
        "''')\n",
        ""
      ],
      "metadata": {
        "colab": {
          "base_uri": "https://localhost:8080/"
        },
        "id": "jIvoglG5AANT",
        "outputId": "5a6984aa-0122-43cd-8cc6-34514e62f5a3"
      },
      "execution_count": 6,
      "outputs": [
        {
          "output_type": "execute_result",
          "data": {
            "text/plain": [
              "<sqlite3.Cursor at 0x7fe9b6f473c0>"
            ]
          },
          "metadata": {},
          "execution_count": 6
        }
      ]
    },
    {
      "cell_type": "code",
      "source": [
        "libros_datos = [(\"Harry Potter\", \"J.K.R\", 1997), (\"The Hobbit\", \"Tolkien\", 1937), (\"Better than the movies\", \"Lynn Painter\", 2021), (\"La Sombra de Viento\", \"Carlos Ruiz Zafon\", 2001)]\n",
        "\n",
        "cursor.executemany(\"\"\"\n",
        "INSERT INTO libros (titulo, autor, año) VALUES (?, ?, ?)\"\"\", libros_datos)\n",
        "con.commit()"
      ],
      "metadata": {
        "id": "XdZWWuz5FSIU"
      },
      "execution_count": 7,
      "outputs": []
    },
    {
      "cell_type": "code",
      "source": [
        "cursor.execute(\"SELECT* FROM libros\")\n",
        "libros = cursor.fetchall()\n",
        "for libro in libros:\n",
        "  print(libros)"
      ],
      "metadata": {
        "colab": {
          "base_uri": "https://localhost:8080/"
        },
        "id": "IaMGb3YRGauZ",
        "outputId": "8db09723-43e3-4eb8-9603-ea4ec93987ab"
      },
      "execution_count": 8,
      "outputs": [
        {
          "output_type": "stream",
          "name": "stdout",
          "text": [
            "[(1, 'Harry Potter', 'J.K.R', 1997), (2, 'The Hobbit', 'Tolkien', 1937), (3, 'Better than the movies', 'Lynn Painter', 2021), (4, 'La Sombra de Viento', 'Carlos Ruiz Zafon', 2001)]\n",
            "[(1, 'Harry Potter', 'J.K.R', 1997), (2, 'The Hobbit', 'Tolkien', 1937), (3, 'Better than the movies', 'Lynn Painter', 2021), (4, 'La Sombra de Viento', 'Carlos Ruiz Zafon', 2001)]\n",
            "[(1, 'Harry Potter', 'J.K.R', 1997), (2, 'The Hobbit', 'Tolkien', 1937), (3, 'Better than the movies', 'Lynn Painter', 2021), (4, 'La Sombra de Viento', 'Carlos Ruiz Zafon', 2001)]\n",
            "[(1, 'Harry Potter', 'J.K.R', 1997), (2, 'The Hobbit', 'Tolkien', 1937), (3, 'Better than the movies', 'Lynn Painter', 2021), (4, 'La Sombra de Viento', 'Carlos Ruiz Zafon', 2001)]\n"
          ]
        }
      ]
    }
  ]
}