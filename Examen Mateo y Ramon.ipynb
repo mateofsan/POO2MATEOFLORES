{
 "cells": [
  {
   "cell_type": "code",
   "execution_count": 1,
   "metadata": {},
   "outputs": [],
   "source": [
    "from tkinter import *\n",
    "from tkinter import ttk\n",
    "window = Tk()\n",
    "window.title(\"Welcome to TutorialsPoint\") #titulo de la ventana\n",
    "window.geometry('400x400') #Tamaño de la ventana\n",
    "window.configure(background = \"grey\");#Color del fondo de la ventana\n",
    "a = Label(window ,text = \"First Name\").grid(row = 0,column = 0)\n",
    "b = Label(window ,text = \"Last Name\").grid(row = 1,column = 0)\n",
    "c = Label(window ,text = \"Email Id\").grid(row = 2,column = 0)\n",
    "d = Label(window ,text = \"Contact Number\").grid(row = 3,column = 0)\n",
    "a1 = Entry(window).grid(row = 0,column = 1)\n",
    "b1 = Entry(window).grid(row = 1,column = 1)\n",
    "c1 = Entry(window).grid(row = 2,column = 1)\n",
    "d1 = Entry(window).grid(row = 3,column = 1)\n",
    "def clicked():\n",
    "   res = \"Welcome to \" + txt.get()\n",
    "   lbl.configure(text= res)\n",
    "btn = ttk.Button(window ,text=\"Submit\").grid(row=4,column=0)#ttk enseña el boton en la ventana #text enseña el texto en la ventana y grid en formato\n",
    "window.mainloop()#Aparezca la ventana hasta que cierre"
   ]
  }
 ],
 "metadata": {
  "kernelspec": {
   "display_name": "Python 3",
   "language": "python",
   "name": "python3"
  },
  "language_info": {
   "codemirror_mode": {
    "name": "ipython",
    "version": 3
   },
   "file_extension": ".py",
   "mimetype": "text/x-python",
   "name": "python",
   "nbconvert_exporter": "python",
   "pygments_lexer": "ipython3",
   "version": "3.11.9"
  }
 },
 "nbformat": 4,
 "nbformat_minor": 2
}
